{
  "nbformat": 4,
  "nbformat_minor": 0,
  "metadata": {
    "colab": {
      "provenance": []
    },
    "kernelspec": {
      "name": "python3",
      "display_name": "Python 3"
    },
    "language_info": {
      "name": "python"
    }
  },
  "cells": [
    {
      "cell_type": "code",
      "metadata": {
        "id": "B7XjFX3J2Zsc",
        "colab": {
          "base_uri": "https://localhost:8080/"
        },
        "outputId": "5f4d1515-efb4-42d2-9d1a-d11466634dad"
      },
      "source": [
        "#Probabilidade e Estatística\n",
        "#Lista 2\n",
        "#1\n",
        "import pandas as pd #biblioteca\n",
        "data = {\"Matemática\": [60, 58, 73, 51, 54, 75, 48, 72, 75, 83, 62, 52], \"Música\": [80, 62, 70, 83, 62, 92, 79, 88, 54, 82, 64, 69]} #dicionário com os valores\n",
        "th1 = pd.DataFrame(data, columns = [\"Matemática\", \"Música\"]) #método pra relacionar as linhas e colunas da matriz\n",
        "corrMatriz = th1.corr() #cálculo do coeficiente de correlação person da variavel th\n",
        "print(corrMatriz) #resultado da matriz de correlação"
      ],
      "execution_count": null,
      "outputs": [
        {
          "output_type": "stream",
          "name": "stdout",
          "text": [
            "            Matemática    Música\n",
            "Matemática    1.000000  0.169146\n",
            "Música        0.169146  1.000000\n"
          ]
        }
      ]
    },
    {
      "cell_type": "code",
      "metadata": {
        "id": "3na3XkCJ9RgI"
      },
      "source": [
        "%reset -f\n",
        "#2 a) O que se pode dizer com base no valor deste coeficiente de correlação?\n",
        "#r = 0,207\n",
        "\n",
        "'''de 0 a 0,3 positivo ou negativo indica uma correlação desprezível, ou seja, o valor de r \n",
        "neste caso (0,207) indica que a correlação é praticamente inexistente'''"
      ],
      "execution_count": null,
      "outputs": []
    },
    {
      "cell_type": "code",
      "metadata": {
        "colab": {
          "base_uri": "https://localhost:8080/"
        },
        "id": "F6IMD181AJce",
        "outputId": "d3af0f21-6524-4caf-cf35-0e4db3e75ef0"
      },
      "source": [
        "%reset -f\n",
        "#3 \n",
        "import pandas as pd #biblioteca\n",
        "data = {\"Anos de Serviço\": [2,3,4,5,4,6,7,8,8,10], \"Número de Clientes\": [48,50,56,52,43,60,62,58,64,72]} #dicionário com os valores\n",
        "th3 = pd.DataFrame(data, columns = [\"Anos de Serviço\", \"Número de Clientes\"]) #método para relacionar as linhas e colunas da matriz\n",
        "corrMatriz = th3.corr() #cálculo do coeficiente de correlação person da variavel th\n",
        "print(corrMatriz) #resultado da matriz de correlação"
      ],
      "execution_count": null,
      "outputs": [
        {
          "output_type": "stream",
          "name": "stdout",
          "text": [
            "                    Anos de Serviço  Número de Clientes\n",
            "Anos de Serviço            1.000000            0.876795\n",
            "Número de Clientes         0.876795            1.000000\n"
          ]
        }
      ]
    },
    {
      "cell_type": "code",
      "metadata": {
        "colab": {
          "base_uri": "https://localhost:8080/"
        },
        "id": "MhuZp3UEBY8x",
        "outputId": "b48b6a92-b4e0-41ff-f5ec-f2b1fee55a8c"
      },
      "source": [
        "%reset -f\n",
        "#4\n",
        "import pandas as pd #biblioteca\n",
        "data = {\"Renda Bruta Mensal\": [12,16,18,20,28,30,40,48,50,54], \"Porcentagem da Renda Bruta Anual com Assistência Médica\":[7.2,7.4,7.0,6.5,6.6,6.7,6.0,5.6,6.0,5.5]} #dicionário com os valores\n",
        "th4 = pd.DataFrame(data, columns = [\"Renda Bruta Mensal\", \"Porcentagem da Renda Bruta Anual com Assistência Médica\"]) #método para relacionar as linhas e colunas da matriz\n",
        "corrMatriz = th4.corr() #cálculo do coeficiente de correlação person da variavel th\n",
        "print(corrMatriz) #resultado da matriz de correlação"
      ],
      "execution_count": null,
      "outputs": [
        {
          "output_type": "stream",
          "name": "stdout",
          "text": [
            "                                                    Renda Bruta Mensal  Porcentagem da Renda Bruta Anual com Assistência Médica\n",
            "Renda Bruta Mensal                                            1.000000                                          -0.940463      \n",
            "Porcentagem da Renda Bruta Anual com Assistênci...           -0.940463                                           1.000000      \n"
          ]
        }
      ]
    },
    {
      "cell_type": "code",
      "metadata": {
        "colab": {
          "base_uri": "https://localhost:8080/"
        },
        "id": "Xx0N6TiOFUWO",
        "outputId": "d9e8d03f-9732-406f-ab29-fcf584a63a2f"
      },
      "source": [
        "%reset -f\n",
        "#5\n",
        "import statistics\n",
        "import pandas as pd #bibliotecas\n",
        "\n",
        "conjuntos = [ #a lista está organizada de forma como o número do conjunto e as duas letras de cada tipo (conjuntoz[x],[y]], conjuntow[x],[y]]...)\n",
        "    [ [10,8,13,9,11,14,6,4,12,7,5], [8.04,6.95,7.58,8.81,8.33,9.96,7.24,4.26,10.84,4.82,5.68] ],\n",
        "    [ [10,8,13,9,11,14,6,4,12,7,5], [9.14,8.14,8.74,8.77,9.26,8.10,6.13,3.10,9.13,7.26,4.74] ],\n",
        "    [ [10,8,13,9,11,14,6,4,12,7,5], [7.46,6.77,12.74,7.11,7.81,8.84,6.08,5.39,8.15,6.42,5.73] ],\n",
        "    [ [8,8,8,8,8,8,8,19,8,8,8], [6.58,5.76,7.71,8.84,8.47,7.04,5.25,12.50,5.56,7.91,6.89] ]]\n",
        "\n",
        "print(\"Abaixo estão as média aritmética simples de cada conjunto e sua respectiva letra.\")\n",
        "print(\"Média aritmética simples do Conjunto 1 ( X:\", statistics.mean(conjuntos[0][0]), \" e Y:\", statistics.mean(conjuntos[0][1]),\")\") #média simples do c1(x,y)\n",
        "print(\"Média aritmética simples do Conjunto 2 ( X:\", statistics.mean(conjuntos[1][0]), \" e Y:\", statistics.mean(conjuntos[1][1]),\")\") #média simples do c1(x,y)\n",
        "print(\"Média aritmética simples do Conjunto 3 ( X:\", statistics.mean(conjuntos[2][0]), \" e Y:\", statistics.mean(conjuntos[2][1]),\")\") #média simples do c1(x,y)\n",
        "print(\"Média aritmética simples do Conjunto 4 ( X:\", statistics.mean(conjuntos[3][0]), \" e Y:\", statistics.mean(conjuntos[3][1]),\")\") #média simples do c1(x,y)\n",
        "\n",
        "print(\"Abaixo estão o desvio padrão de cada conjunto e sua respectiva letra.\")\n",
        "print(\"Desvio Padrão do Conjunto 1 é:(X:\", statistics.stdev(conjuntos[0][0]), \" e Y:\", statistics.stdev(conjuntos[0][1]),\")\") #desvio padrao do c1(x,y)\n",
        "print(\"Desvio Padrão do Conjunto 2 é:(X:\", statistics.stdev(conjuntos[1][0]), \" e Y:\", statistics.stdev(conjuntos[1][1]),\")\") #desvio padrao do c2(x,y)\n",
        "print(\"Desvio Padrão do Conjunto 3 é:(X:\", statistics.stdev(conjuntos[2][0]), \" e Y:\", statistics.stdev(conjuntos[2][1]),\")\") #desvio padrao do c3(x,y)\n",
        "print(\"Desvio Padrão do Conjunto 4 é:(X:\", statistics.stdev(conjuntos[3][0]), \" e Y:\", statistics.stdev(conjuntos[3][1]),\")\",\"\\n\") #desvio padrao do c4(x,y)\n",
        "\n",
        "data = {\"Conjunto 1 X\": conjuntos[0][0], \"Conjunto 1 Y\": conjuntos[0][1]} #biblioteca com os valores do conjunto 1\n",
        "cj1 = pd.DataFrame(data, columns = [\"Conjunto 1 X\", \"Conjunto 1 Y\"]) #método para relacionar as linhas e colunas da matriz\n",
        "corrMatriz1 = cj1.corr() #cálculo do coeficiente de correlação person da variavel cj1\n",
        "print(corrMatriz1) #resultado da matriz de correlação\n",
        "\n",
        "data = {\"Conjunto 2 X\": conjuntos[1][0], \"Conjunto 2 Y\": conjuntos[1][1]} #biblioteca com os valores do conjunto 2\n",
        "cj2 = pd.DataFrame(data, columns = [\"Conjunto 2 X\", \"Conjunto 2 Y\"]) #método para relacionar as linhas e colunas da matriz\n",
        "corrMatriz2 = cj2.corr() #cálculo do coeficiente de correlação person da variavel cj2\n",
        "print(corrMatriz2) #resultado da matriz de correlação\n",
        "\n",
        "data = {\"Conjunto 3 X\": conjuntos[2][0], \"Conjunto 3 Y\": conjuntos[2][1]} #biblioteca com os valores do conjunto 3\n",
        "cj3 = pd.DataFrame(data, columns = [\"Conjunto 3 X\", \"Conjunto 3 Y\"]) #método para relacionar as linhas e colunas da matriz\n",
        "corrMatriz3 = cj3.corr() #cálculo do coeficiente de correlação person da variavel cj3\n",
        "print(corrMatriz3) #resultado da matriz de correlação\n",
        "\n",
        "data = {\"Conjunto 4 X\": conjuntos[3][0], \"Conjunto 4 Y\": conjuntos[3][1]} #biblioteca com os valores do conjunto 4\n",
        "cj4 = pd.DataFrame(data, columns = [\"Conjunto 4 X\", \"Conjunto 4 Y\"]) #método para relacionar as linhas e colunas da matriz\n",
        "corrMatriz4 = cj4.corr() #cálculo do coeficiente de correlação person da variavel cj4\n",
        "print(corrMatriz4) #resultado da matriz de correlação"
      ],
      "execution_count": null,
      "outputs": [
        {
          "output_type": "stream",
          "name": "stdout",
          "text": [
            "Abaixo estão as média aritmética simples de cada conjunto e sua respectiva letra.\n",
            "Média aritmética simples do Conjunto 1 ( X: 9  e Y: 7.500909090909091 )\n",
            "Média aritmética simples do Conjunto 2 ( X: 9  e Y: 7.500909090909091 )\n",
            "Média aritmética simples do Conjunto 3 ( X: 9  e Y: 7.5 )\n",
            "Média aritmética simples do Conjunto 4 ( X: 9  e Y: 7.500909090909091 )\n",
            "Abaixo estão o desvio padrão de cada conjunto e sua respectiva letra.\n",
            "Desvio Padrão do Conjunto 1 é:(X: 3.3166247903554  e Y: 2.031568135925815 )\n",
            "Desvio Padrão do Conjunto 2 é:(X: 3.3166247903554  e Y: 2.0316567355016177 )\n",
            "Desvio Padrão do Conjunto 3 é:(X: 3.3166247903554  e Y: 2.030423601123667 )\n",
            "Desvio Padrão do Conjunto 4 é:(X: 3.3166247903554  e Y: 2.0305785113876023 ) \n",
            "\n",
            "              Conjunto 1 X  Conjunto 1 Y\n",
            "Conjunto 1 X      1.000000      0.816421\n",
            "Conjunto 1 Y      0.816421      1.000000\n",
            "              Conjunto 2 X  Conjunto 2 Y\n",
            "Conjunto 2 X      1.000000      0.816237\n",
            "Conjunto 2 Y      0.816237      1.000000\n",
            "              Conjunto 3 X  Conjunto 3 Y\n",
            "Conjunto 3 X      1.000000      0.816287\n",
            "Conjunto 3 Y      0.816287      1.000000\n",
            "              Conjunto 4 X  Conjunto 4 Y\n",
            "Conjunto 4 X      1.000000      0.816521\n",
            "Conjunto 4 Y      0.816521      1.000000\n"
          ]
        }
      ]
    },
    {
      "cell_type": "code",
      "metadata": {
        "colab": {
          "base_uri": "https://localhost:8080/"
        },
        "id": "Tmfywn6aFZc7",
        "outputId": "2c10162f-2af5-43f5-da31-3f826e72f610"
      },
      "source": [
        "%reset -f\n",
        "#6\n",
        "import pandas as pd #biblioteca\n",
        "data = {\"Produtividade\": [100,102,105,108,112,120], \"Alimentação\": [4,5,1,3,6,2], \"Exercícios\": [1,3,2,4,5,6], \"Rodízio\":[3,1,2,6,4,5]} #biblioteca com os valores\n",
        "th6 = pd.DataFrame(data, columns = [\"Produtividade\",\"Alimentação\",\"Exercícios\",\"Rodízio\"]) #método para relacionar as linhas e colunas da matriz\n",
        "corrMatriz = th6.corr() #cálculo do coeficiente de correlação person da variavel th\n",
        "print(corrMatriz) #resultado da matriz de correlação\n"
      ],
      "execution_count": null,
      "outputs": [
        {
          "output_type": "stream",
          "name": "stdout",
          "text": [
            "               Produtividade  Alimentação  Exercícios   Rodízio\n",
            "Produtividade       1.000000    -0.196822    0.925791  0.634204\n",
            "Alimentação        -0.196822     1.000000    0.085714 -0.142857\n",
            "Exercícios          0.925791     0.085714    1.000000  0.600000\n",
            "Rodízio             0.634204    -0.142857    0.600000  1.000000\n"
          ]
        }
      ]
    }
  ]
}